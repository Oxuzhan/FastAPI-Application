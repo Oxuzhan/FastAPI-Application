{
 "cells": [
  {
   "cell_type": "code",
   "execution_count": 1,
   "metadata": {},
   "outputs": [
    {
     "name": "stdout",
     "output_type": "stream",
     "text": [
      "Toplam Büyük Şirket Sayısı: 848\n"
     ]
    }
   ],
   "source": [
    "import requests\n",
    "\n",
    "# API URL'si\n",
    "url = \"https://ranking.glassdollar.com/graphql\"\n",
    "\n",
    "# GraphQL sorgusu\n",
    "query = \"\"\"\n",
    "{\n",
    "  corporateCount: getCorporateCount\n",
    "}\n",
    "\"\"\"\n",
    "\n",
    "# API'ye gönderilecek veri\n",
    "payload = {\n",
    "    \"query\": query,\n",
    "    \"variables\": {}  # Boş değişken\n",
    "}\n",
    "\n",
    "# İstek başlıkları\n",
    "headers = {\n",
    "    \"Content-Type\": \"application/json\"\n",
    "}\n",
    "\n",
    "# API isteğini yapma\n",
    "response = requests.post(url, json=payload, headers=headers)\n",
    "\n",
    "# Yanıtı kontrol etme\n",
    "if response.status_code == 200:\n",
    "    data = response.json()  # JSON formatında veriyi alma\n",
    "    print(\"Toplam Büyük Şirket Sayısı:\", data['data']['corporateCount'])\n",
    "else:\n",
    "    # Hata durumunda detaylı mesajı yazdırma\n",
    "    print(\"API isteği başarısız oldu:\", response.status_code)\n",
    "    print(\"Yanıt Mesajı:\", response.text)\n"
   ]
  }
 ],
 "metadata": {
  "kernelspec": {
   "display_name": ".venv",
   "language": "python",
   "name": "python3"
  },
  "language_info": {
   "codemirror_mode": {
    "name": "ipython",
    "version": 3
   },
   "file_extension": ".py",
   "mimetype": "text/x-python",
   "name": "python",
   "nbconvert_exporter": "python",
   "pygments_lexer": "ipython3",
   "version": "3.12.5"
  }
 },
 "nbformat": 4,
 "nbformat_minor": 2
}
